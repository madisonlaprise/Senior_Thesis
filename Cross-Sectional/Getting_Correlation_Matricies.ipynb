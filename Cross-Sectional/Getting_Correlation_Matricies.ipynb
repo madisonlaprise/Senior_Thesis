{
 "cells": [
  {
   "cell_type": "markdown",
   "metadata": {},
   "source": [
    "# Getting Correlation Matricies"
   ]
  },
  {
   "cell_type": "code",
   "execution_count": 2,
   "metadata": {},
   "outputs": [],
   "source": [
    "import pandas as pd\n",
    "\n",
    "df = pd.read_csv(r'C:\\Users\\MadiL\\Thesis CodeBase\\Cross-Sectional\\LSAS_together.csv')\n",
    "\n",
    "lsas_columns = [col for col in df.columns if \"LSAS\" in col]\n",
    "cfs_columns = [col for col in df.columns if \"CFS\" in col]\n",
    "bdi_columns = [col for col in df.columns if \"BDI\" in col]\n",
    "\n",
    "\n",
    "# Subset the dataframe\n",
    "### If we want to use demographics, don't subset\n",
    "df_subset = df[lsas_columns + cfs_columns + bdi_columns].copy()\n",
    "\n",
    "#df_subset[cfs_columns] = abs(df_subset[cfs_columns])\n",
    "\n",
    "# Reverse score CFS questions 2, 3, 5, 10 in place\n",
    "reverse_columns = ['CFS_2', 'CFS_3', 'CFS_5', 'CFS_10']\n",
    "\n",
    "# Apply the reverse scoring transformation in place\n",
    "df_subset[reverse_columns] = 7 - df_subset[reverse_columns]\n",
    "\n",
    "# Reverse the direction of all CFS columns by multiplying by -1\n",
    "df_subset[cfs_columns] = df_subset[cfs_columns] * -1"
   ]
  },
  {
   "cell_type": "code",
   "execution_count": 3,
   "metadata": {},
   "outputs": [],
   "source": [
    "# Make a correlation matrix of the question columns\n",
    "correlation_matrix = df_subset.corr()\n",
    "correlation_matrix.to_csv(r'C:\\Users\\MadiL\\Thesis CodeBase\\Cross-Sectional\\Matricies\\Questions_Corr.csv')\n",
    "\n",
    "# Make a correlation matrix of tests\n",
    "df_subset['LSAS_Total'] = df_subset[lsas_columns].sum(axis=1)\n",
    "df_subset['CFS_Total'] = df_subset[cfs_columns].sum(axis=1)\n",
    "df_subset['BDI_Total'] = df_subset[bdi_columns].sum(axis=1)\n",
    "\n",
    "df_total_scores = df_subset[['LSAS_Total', 'CFS_Total', 'BDI_Total']]\n",
    "\n",
    "test_correlation_matrix = df_total_scores.corr()\n",
    "test_correlation_matrix.to_csv(r'C:\\Users\\MadiL\\Thesis CodeBase\\Cross-Sectional\\Matricies\\Test_Corr.csv')"
   ]
  }
 ],
 "metadata": {
  "kernelspec": {
   "display_name": "thesisenv",
   "language": "python",
   "name": "python3"
  },
  "language_info": {
   "codemirror_mode": {
    "name": "ipython",
    "version": 3
   },
   "file_extension": ".py",
   "mimetype": "text/x-python",
   "name": "python",
   "nbconvert_exporter": "python",
   "pygments_lexer": "ipython3",
   "version": "3.12.4"
  }
 },
 "nbformat": 4,
 "nbformat_minor": 2
}
