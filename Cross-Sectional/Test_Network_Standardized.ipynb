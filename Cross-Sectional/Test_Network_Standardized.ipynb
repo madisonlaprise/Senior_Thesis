{
 "cells": [
  {
   "cell_type": "code",
   "execution_count": 1,
   "metadata": {},
   "outputs": [],
   "source": [
    "import networkx as nx\n",
    "from pyvis.network import Network\n",
    "import pandas as pd\n",
    "import numpy as np\n",
    "import plotly.graph_objects as go\n",
    "\n",
    "\n",
    "df = pd.read_csv(r\"C:\\Users\\MadiL\\Thesis CodeBase\\Cross-Sectional\\LSAS_together.csv\")"
   ]
  },
  {
   "cell_type": "markdown",
   "metadata": {},
   "source": [
    "### Correlation Matrix"
   ]
  },
  {
   "cell_type": "code",
   "execution_count": 2,
   "metadata": {},
   "outputs": [
    {
     "name": "stdout",
     "output_type": "stream",
     "text": [
      "   LSAS_Total  CFS_Total  BDI_Total\n",
      "0  -23.957493  20.326952  -5.921835\n",
      "1  -28.036570  -2.729178 -13.800136\n",
      "2  -13.053069  17.353061  32.088545\n",
      "3   27.153937  -3.915103 -13.800136\n",
      "4    7.488699   6.014420 -13.800136\n",
      "            LSAS_Total  CFS_Total  BDI_Total\n",
      "LSAS_Total    1.000000   0.514453   0.510253\n",
      "CFS_Total     0.514453   1.000000   0.502122\n",
      "BDI_Total     0.510253   0.502122   1.000000\n"
     ]
    }
   ],
   "source": [
    "lsas_columns = [col for col in df.columns if \"LSAS\" in col]\n",
    "cfs_columns = [col for col in df.columns if \"CFS\" in col]\n",
    "bdi_columns = [col for col in df.columns if \"BDI\" in col]\n",
    "\n",
    "# Subset the dataframe\n",
    "### If we want to use demographics, don't subset\n",
    "df_subset = df[lsas_columns + cfs_columns + bdi_columns].copy()\n",
    "\n",
    "\n",
    "# Reverse score CFS questions 2, 3, 5, 10 in place\n",
    "reverse_columns = ['CFS_2', 'CFS_3', 'CFS_5', 'CFS_10']\n",
    "\n",
    "# Apply the reverse scoring transformation in place\n",
    "df_subset[reverse_columns] = 7 - df_subset[reverse_columns]\n",
    "\n",
    "# Reverse the direction of all CFS columns by multiplying by -1\n",
    "df_subset[cfs_columns] = df_subset[cfs_columns] * -1\n",
    "\n",
    "\n",
    "# Now df_subset has the reverse scored columns in place\n",
    "\n",
    "\n",
    "# Define a function to standardize values\n",
    "# Ensures all columns have a mean of 0 and a standard deviation of 1\n",
    "def standardize(df_column):\n",
    "    return (df_column - df_column.mean()) / df_column.std()\n",
    "\n",
    "# Standardize LSAS columns\n",
    "df_subset[lsas_columns] = df_subset[lsas_columns].apply(standardize)\n",
    "\n",
    "# Standardize CFS columns\n",
    "df_subset[cfs_columns] = df_subset[cfs_columns].apply(standardize)\n",
    "\n",
    "# Standardize BDI columns\n",
    "df_subset[bdi_columns] = df_subset[bdi_columns].apply(standardize)\n",
    "\n",
    "# Sum all normalized LSAS items (no fear/avoidance separation) into one total score\n",
    "df_subset['LSAS_Total'] = df_subset[lsas_columns].sum(axis=1)\n",
    "\n",
    "# Sum normalized CFS and BDI scores\n",
    "df_subset['CFS_Total'] = df_subset[cfs_columns].sum(axis=1)\n",
    "df_subset['BDI_Total'] = df_subset[bdi_columns].sum(axis=1)\n",
    "\n",
    "# Create a new DataFrame with the normalized total scores\n",
    "df_total_scores = df_subset[['LSAS_Total', 'CFS_Total', 'BDI_Total']]\n",
    "\n",
    "# Display the first few rows to check the normalized total scores\n",
    "print(df_total_scores.head())\n",
    "\n",
    "# Compute the correlation matrix on the normalized total scores\n",
    "correlation_matrix = df_total_scores.corr()\n",
    "\n",
    "# Print the correlation matrix\n",
    "print(correlation_matrix)\n",
    "\n"
   ]
  },
  {
   "cell_type": "markdown",
   "metadata": {},
   "source": [
    "### Building a Network"
   ]
  },
  {
   "cell_type": "code",
   "execution_count": 3,
   "metadata": {},
   "outputs": [
    {
     "name": "stdout",
     "output_type": "stream",
     "text": [
      "Number of nodes: 3\n",
      "Number of edges: 3\n"
     ]
    }
   ],
   "source": [
    "import numpy as np\n",
    "import networkx as nx\n",
    "\n",
    "# Set a correlation threshold to define a \"strong\" connection\n",
    "threshold = 0.4\n",
    "\n",
    "# Initialize an empty graph\n",
    "G = nx.Graph()\n",
    "\n",
    "# Add all nodes to the graph, even if they don't have strong correlations\n",
    "for col in correlation_matrix.columns:\n",
    "    G.add_node(col)\n",
    "\n",
    "# Add edges for pairs of questions that have a correlation above the threshold\n",
    "for i in range(len(correlation_matrix.columns)):\n",
    "    for j in range(i + 1, len(correlation_matrix.columns)):\n",
    "        if np.abs(correlation_matrix.iloc[i, j]) > threshold:\n",
    "            G.add_edge(correlation_matrix.columns[i], correlation_matrix.columns[j],\n",
    "                       weight=correlation_matrix.iloc[i, j])\n",
    "\n",
    "# Number of nodes in the graph\n",
    "print(f\"Number of nodes: {G.number_of_nodes()}\")\n",
    "\n",
    "# Number of edges in the graph\n",
    "print(f\"Number of edges: {G.number_of_edges()}\")\n"
   ]
  },
  {
   "cell_type": "markdown",
   "metadata": {},
   "source": [
    "This loop goes through every pair of questions in your dataset:\n",
    "\n",
    "i and j represent the indices of two different questions (columns) in the correlation matrix.\n",
    "The if statement checks whether the absolute value of the correlation between these two questions is greater than the threshold you set (0.3).\n",
    "\n",
    "If the correlation is strong enough, an edge is added to the graph, connecting the two questions.\n",
    "Why It’s Important: This step is how you build your network. Each edge in the network represents a significant relationship between two symptoms. The weight of the edge is the correlation value, which can be useful if you want to consider the strength of the connections in later analysis. "
   ]
  },
  {
   "cell_type": "markdown",
   "metadata": {},
   "source": [
    "### Analyze the Network\n",
    "\n",
    "Identify Central Symptoms: Find out which questions (symptoms) are most central or influential in the network using measures like degree centrality.\n",
    "\n",
    "Detect Clusters: Look for clusters or communities of symptoms that are closely connected, which might indicate groups of symptoms that co-occur or influence each other.\n"
   ]
  },
  {
   "cell_type": "code",
   "execution_count": 4,
   "metadata": {},
   "outputs": [
    {
     "name": "stdout",
     "output_type": "stream",
     "text": [
      "Most central symptoms: [('LSAS_Total', 1.0), ('CFS_Total', 1.0), ('BDI_Total', 1.0)]\n",
      "Detected communities: [['CFS_Total', 'BDI_Total', 'LSAS_Total']]\n"
     ]
    }
   ],
   "source": [
    "# Centrality analysis\n",
    "centrality = nx.degree_centrality(G)\n",
    "print(\"Most central symptoms:\", sorted(centrality.items(), key=lambda x: x[1], reverse=True)[:10])\n",
    "\n",
    "# Community detection\n",
    "from networkx.algorithms import community\n",
    "communities = community.greedy_modularity_communities(G)\n",
    "print(\"Detected communities:\", [list(c) for c in communities])"
   ]
  },
  {
   "cell_type": "markdown",
   "metadata": {},
   "source": [
    "### Visualize the Network"
   ]
  },
  {
   "cell_type": "code",
   "execution_count": 5,
   "metadata": {},
   "outputs": [
    {
     "data": {
      "image/png": "[encoded data removed]",
      "text/plain": [
       "<Figure size 1000x1000 with 1 Axes>"
      ]
     },
     "metadata": {},
     "output_type": "display_data"
    }
   ],
   "source": [
    "import networkx as nx\n",
    "import matplotlib.pyplot as plt\n",
    "\n",
    "# Define a function to color nodes based on their survey type\n",
    "def get_node_color(node):\n",
    "    if \"LSAS\" in node:\n",
    "        return 'green'\n",
    "    elif \"CFS\" in node:\n",
    "        return 'orange'\n",
    "    elif \"BDI\" in node:\n",
    "        return 'red'\n",
    "    else:\n",
    "        return 'gray'  # Default color for unrecognized nodes\n",
    "\n",
    "# Assign colors to nodes based on their labels\n",
    "node_colors = [get_node_color(node) for node in G.nodes]\n",
    "\n",
    "# Define node positions using spring layout\n",
    "pos = nx.spring_layout(G)  # You can also try other layouts like nx.circular_layout(G)\n",
    "\n",
    "# Create the plot\n",
    "plt.figure(figsize=(10, 10))\n",
    "\n",
    "# Draw the graph\n",
    "nx.draw(G, pos, with_labels=True, node_color=node_colors, node_size=1000, edge_color='gray')\n",
    "\n",
    "# Show the plot\n",
    "plt.show()\n"
   ]
  },
  {
   "cell_type": "markdown",
   "metadata": {},
   "source": [
    "### Most/Least Connected Nodes\n",
    "\n",
    "Shows nodes (questions) with the most and least degrees (number of connected edges)"
   ]
  },
  {
   "cell_type": "code",
   "execution_count": 6,
   "metadata": {},
   "outputs": [
    {
     "name": "stdout",
     "output_type": "stream",
     "text": [
      "Most connected question: LSAS_Total: degree 2\n",
      "Least connected question: LSAS_Total: degree 2\n",
      "Questions and their degrees (from highest to lowest):\n",
      "LSAS_Total: 2\n",
      "CFS_Total: 2\n",
      "BDI_Total: 2\n"
     ]
    }
   ],
   "source": [
    "import networkx as nx\n",
    "\n",
    "# Assuming G is your graph from the previous steps\n",
    "\n",
    "# Calculate the degree of each node\n",
    "degree_dict = dict(G.degree())\n",
    "\n",
    "# Find the most connected question(s)\n",
    "most_connected = max(degree_dict, key=degree_dict.get)\n",
    "most_connected_degree = degree_dict[most_connected]\n",
    "\n",
    "# Find the least connected question(s)\n",
    "least_connected = min(degree_dict, key=degree_dict.get)\n",
    "least_connected_degree = degree_dict[least_connected]\n",
    "\n",
    "# Print the results\n",
    "print(f\"Most connected question: {most_connected}: degree {most_connected_degree}\")\n",
    "print(f\"Least connected question: {least_connected}: degree {least_connected_degree}\")\n",
    "\n",
    "# Sort nodes by their degree in descending order\n",
    "sorted_degree = sorted(degree_dict.items(), key=lambda item: item[1], reverse=True)\n",
    "\n",
    "# Print the results\n",
    "print(\"Questions and their degrees (from highest to lowest):\")\n",
    "for question, degree in sorted_degree:\n",
    "    print(f\"{question}: {degree}\")\n",
    "\n",
    "\n"
   ]
  },
  {
   "cell_type": "code",
   "execution_count": 7,
   "metadata": {},
   "outputs": [
    {
     "name": "stdout",
     "output_type": "stream",
     "text": [
      "Maximum correlation value: 0.5144528149469786\n",
      "Pairs with the maximum correlation:\n",
      "LSAS_Total and CFS_Total\n",
      "CFS_Total and LSAS_Total\n",
      "\n",
      "Minimum correlation value: 0.5021218370272316\n",
      "Pairs with the minimum correlation:\n",
      "CFS_Total and BDI_Total\n",
      "BDI_Total and CFS_Total\n"
     ]
    }
   ],
   "source": [
    "import pandas as pd\n",
    "import numpy as np\n",
    "\n",
    "# Assuming correlation_matrix is your DataFrame with correlations\n",
    "\n",
    "# Set the diagonal elements to NaN to avoid self-pairing\n",
    "np.fill_diagonal(correlation_matrix.values, np.nan)\n",
    "\n",
    "# Find the maximum correlation value in the matrix\n",
    "max_corr = correlation_matrix.max().max()\n",
    "\n",
    "# Find the minimum correlation value in the matrix\n",
    "min_corr = correlation_matrix.min().min()\n",
    "\n",
    "# Find the pairs with the maximum correlation\n",
    "max_corr_pairs = np.where(correlation_matrix == max_corr)\n",
    "max_corr_questions = list(zip(correlation_matrix.columns[max_corr_pairs[0]], correlation_matrix.columns[max_corr_pairs[1]]))\n",
    "\n",
    "# Find the pairs with the minimum correlation\n",
    "min_corr_pairs = np.where(correlation_matrix == min_corr)\n",
    "min_corr_questions = list(zip(correlation_matrix.columns[min_corr_pairs[0]], correlation_matrix.columns[min_corr_pairs[1]]))\n",
    "\n",
    "# Print the results\n",
    "print(f\"Maximum correlation value: {max_corr}\")\n",
    "print(\"Pairs with the maximum correlation:\")\n",
    "for pair in max_corr_questions:\n",
    "    print(f\"{pair[0]} and {pair[1]}\")\n",
    "\n",
    "print(f\"\\nMinimum correlation value: {min_corr}\")\n",
    "print(\"Pairs with the minimum correlation:\")\n",
    "for pair in min_corr_questions:\n",
    "    print(f\"{pair[0]} and {pair[1]}\")\n",
    "\n"
   ]
  },
  {
   "cell_type": "code",
   "execution_count": null,
   "metadata": {},
   "outputs": [],
   "source": []
  },
  {
   "cell_type": "markdown",
   "metadata": {},
   "source": [
    "# Next steps: \n",
    "\n",
    "Find out how to stratify by type of test, so that I can see highest correlations between items of different tests. RIght now we're just getting the avoidance/fear equivalent questions from the LSAS. Also don't make it say the pair backwards."
   ]
  }
 ],
 "metadata": {
  "kernelspec": {
   "display_name": "thesisenv",
   "language": "python",
   "name": "python3"
  },
  "language_info": {
   "codemirror_mode": {
    "name": "ipython",
    "version": 3
   },
   "file_extension": ".py",
   "mimetype": "text/x-python",
   "name": "python",
   "nbconvert_exporter": "python",
   "pygments_lexer": "ipython3",
   "version": "3.12.4"
  }
 },
 "nbformat": 4,
 "nbformat_minor": 2
}
