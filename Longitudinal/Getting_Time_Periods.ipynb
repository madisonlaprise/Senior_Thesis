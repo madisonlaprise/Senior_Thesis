{
 "cells": [
  {
   "cell_type": "code",
   "execution_count": 1,
   "metadata": {},
   "outputs": [],
   "source": [
    "import pandas as pd\n",
    "\n",
    "df = pd.read_csv(r'C:\\Users\\MadiL\\Thesis CodeBase\\Longitudinal\\Individual Questions\\long_data_standardized.csv')\n",
    "\n",
    "# Convert StartDate to datetime for easier manipulation\n",
    "df['StartDate'] = pd.to_datetime(df['StartDate'])\n",
    "\n",
    "# Extract unique dates and count participants per date\n",
    "time_points = df.groupby('StartDate')['Participant_Number'].nunique().reset_index()\n",
    "time_points.columns = ['StartDate', 'Participant_Count']\n",
    "\n",
    "# Sort by date to display the distribution\n",
    "time_points_sorted = time_points.sort_values(by='StartDate')\n",
    "\n",
    "time_points_sorted.to_csv(r'C:\\Users\\MadiL\\Thesis CodeBase\\Longitudinal\\Individual Questions\\time_points.csv', index=False)"
   ]
  },
  {
   "cell_type": "code",
   "execution_count": 2,
   "metadata": {},
   "outputs": [],
   "source": [
    "# Extract year and month from StartDate to aggregate by month\n",
    "df['YearMonth'] = df['StartDate'].dt.to_period('M')\n",
    "\n",
    "# Count participants per month\n",
    "monthly_counts = df.groupby('YearMonth')['Participant_Number'].nunique().reset_index()\n",
    "monthly_counts.columns = ['YearMonth', 'Participant_Count']\n",
    "\n",
    "# Sort by participant count to identify the best months\n",
    "monthly_counts_sorted = monthly_counts.sort_values(by='Participant_Count', ascending=False)\n",
    "\n",
    "monthly_counts_sorted.to_csv(r'C:\\Users\\MadiL\\Thesis CodeBase\\Longitudinal\\Individual Questions\\monthly_counts.csv', index=False)\n"
   ]
  }
 ],
 "metadata": {
  "kernelspec": {
   "display_name": "thesisenv",
   "language": "python",
   "name": "python3"
  },
  "language_info": {
   "codemirror_mode": {
    "name": "ipython",
    "version": 3
   },
   "file_extension": ".py",
   "mimetype": "text/x-python",
   "name": "python",
   "nbconvert_exporter": "python",
   "pygments_lexer": "ipython3",
   "version": "3.12.4"
  }
 },
 "nbformat": 4,
 "nbformat_minor": 2
}
