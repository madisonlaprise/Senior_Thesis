{
 "cells": [
  {
   "cell_type": "code",
   "execution_count": 1,
   "metadata": {},
   "outputs": [],
   "source": [
    "import pandas as pd\n",
    "\n",
    "df1 = pd.read_csv('bridge_T1.csv')\n",
    "df2 = pd.read_csv('bridge_T2.csv')\n",
    "df3 = pd.read_csv('bridge_T3.csv')\n",
    "df_ols= pd.read_csv('bridge_OLS.csv')"
   ]
  },
  {
   "cell_type": "code",
   "execution_count": 23,
   "metadata": {},
   "outputs": [
    {
     "name": "stdout",
     "output_type": "stream",
     "text": [
      "BRIDGE STRENGTH\n",
      "BDI mean: 0.008006500765170482, std: 0.08200122609682327\n",
      "LSAS mean: 0.016179740548205614, std: 0.07002455350462874\n",
      "CFS mean: -0.018174369398880435, std: 0.06589965678900736\n",
      "BRIDGE BETWEENNESS\n",
      "BDI mean: 14.25, std: 52.13936284511671\n",
      "LSAS mean: 7.708333333333333, std: 52.47896403957177\n",
      "CFS mean: -25.083333333333332, std: 83.25585792476033\n"
     ]
    }
   ],
   "source": [
    "# Add a time point column to each dataframe\n",
    "df1['Time'] = 'T1'\n",
    "df2['Time'] = 'T2'\n",
    "df3['Time'] = 'T3'\n",
    "\n",
    "# Combine the dataframes\n",
    "df_combined = pd.concat([df1, df2, df3])\n",
    "\n",
    "# Reset the index\n",
    "df_combined.reset_index(drop=True, inplace=True)\n",
    "# Now drop the time column\n",
    "df1.drop('Time', axis=1, inplace=True)\n",
    "df2.drop('Time', axis=1, inplace=True)\n",
    "df3.drop('Time', axis=1, inplace=True)\n",
    "\n",
    "# Analyze how the bridge has changed over time (T3 minus T1)\n",
    "# Subtract the T1 dataframe from the T3 dataframe, aligning on the node column\n",
    "\n",
    "df_diff = df3.set_index('Node').sub(df1.set_index('Node')).dropna().reset_index()\n",
    "\n",
    "# Extract the first three characters of the row item in the Node column to get the scale\n",
    "df_diff['Scale'] = df_diff['Node'].str[:3]\n",
    "\n",
    "# Get the mean and standard deviation of the bridge measures for each scale in df_diff\n",
    "df_bdi = df_diff[df_diff['Scale'] == 'BDI']\n",
    "df_lsas = df_diff[df_diff['Scale'] == 'LSA']\n",
    "df_cfs = df_diff[df_diff['Scale'] == 'CFS']\n",
    "\n",
    "\n",
    "# Print the mean and standard deviation of the bridge measures for each scale\n",
    "print('BRIDGE STRENGTH')\n",
    "print(f'BDI mean: {df_bdi[\"Bridge_Strength\"].mean()}, std: {df_bdi[\"Bridge_Strength\"].std()}') \n",
    "print(f'LSAS mean: {df_lsas[\"Bridge_Strength\"].mean()}, std: {df_lsas[\"Bridge_Strength\"].std()}')\n",
    "print(f'CFS mean: {df_cfs[\"Bridge_Strength\"].mean()}, std: {df_cfs[\"Bridge_Strength\"].std()}')\n",
    "\n",
    "print('BRIDGE BETWEENNESS')\n",
    "print(f'BDI mean: {df_bdi[\"Bridge_Betweenness\"].mean()}, std: {df_bdi[\"Bridge_Betweenness\"].std()}') \n",
    "print(f'LSAS mean: {df_lsas[\"Bridge_Betweenness\"].mean()}, std: {df_lsas[\"Bridge_Betweenness\"].std()}')\n",
    "print(f'CFS mean: {df_cfs[\"Bridge_Betweenness\"].mean()}, std: {df_cfs[\"Bridge_Betweenness\"].std()}')\n"
   ]
  }
 ],
 "metadata": {
  "kernelspec": {
   "display_name": "thesisenv",
   "language": "python",
   "name": "python3"
  },
  "language_info": {
   "codemirror_mode": {
    "name": "ipython",
    "version": 3
   },
   "file_extension": ".py",
   "mimetype": "text/x-python",
   "name": "python",
   "nbconvert_exporter": "python",
   "pygments_lexer": "ipython3",
   "version": "3.12.4"
  }
 },
 "nbformat": 4,
 "nbformat_minor": 2
}
