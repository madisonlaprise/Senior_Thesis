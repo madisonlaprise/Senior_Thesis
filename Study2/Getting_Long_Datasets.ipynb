{
 "cells": [
  {
   "cell_type": "code",
   "execution_count": null,
   "metadata": {},
   "outputs": [],
   "source": [
    "import pandas as pd\n",
    "\n",
    "# Step 0: Load the data\n",
    "cleaned_data = pd.read_csv(r'C:\\Users\\MadiL\\Thesis CodeBase\\Longitudinal\\Study2_data.csv')\n",
    "\n",
    "# Step 1: Convert StartDate and EndDate to datetime format\n",
    "cleaned_data['StartDate'] = pd.to_datetime(cleaned_data['StartDate'], errors='coerce')\n",
    "cleaned_data['EndDate'] = pd.to_datetime(cleaned_data['EndDate'], errors='coerce')\n",
    "\n",
    "# Step 2: Calculate composite survey scores for LSAS, BDI, and CFS\n",
    "# LSAS score columns (assuming they follow the pattern LSAS_anx1, LSAS_anx2, ..., LSAS_anx19)\n",
    "lsas_columns = [col for col in cleaned_data.columns if 'LSAS' in col]\n",
    "bd_columns = [col for col in cleaned_data.columns if 'BDI' in col]  # Assuming BDI is similarly named\n",
    "cfs_columns = [col for col in cleaned_data.columns if 'CFS' in col]\n",
    "\n",
    "# Create composite scores for each participant at each time point\n",
    "cleaned_data['LSAS_score'] = cleaned_data[lsas_columns].sum(axis=1, skipna=True)\n",
    "cleaned_data['BDI_score'] = cleaned_data[bd_columns].sum(axis=1, skipna=True)\n",
    "cleaned_data['CFS_score'] = cleaned_data[cfs_columns].sum(axis=1, skipna=True)\n",
    "\n",
    "# Step 3: Sort data by Participant_Number and StartDate\n",
    "cleaned_data_sorted = cleaned_data.sort_values(by=['Participant_Number', 'StartDate'])\n",
    "\n",
    "# Step 4: Reshape the data to long format for longitudinal analysis\n",
    "long_data = pd.melt(cleaned_data_sorted, \n",
    "                    id_vars=['Participant_Number', 'StartDate', 'EndDate'], \n",
    "                    value_vars=['LSAS_score', 'BDI_score', 'CFS_score'],\n",
    "                    var_name='Survey', value_name='Score')\n",
    "\n",
    "long_data.to_csv(r'Study2_data_unstandardized.csv', index=False)\n",
    "\n",
    "# Step 5: Standardize scores to z-scores within each survey type\n",
    "from scipy.stats import zscore\n",
    "\n",
    "# Reverse the effect of CFS scores by multiplying by -1\n",
    "long_data.loc[long_data['Survey'] == 'CFS_score', 'Score'] *= -1\n",
    "\n",
    "# Standardize scores to z-scores within each survey type\n",
    "long_data['Standardized_Score'] = long_data.groupby('Survey')['Score'].transform(zscore)\n",
    "\n",
    "long_data.to_csv(r'Study2_data_standardized.csv', index=False)\n"
   ]
  }
 ],
 "metadata": {
  "kernelspec": {
   "display_name": "thesisenv",
   "language": "python",
   "name": "python3"
  },
  "language_info": {
   "codemirror_mode": {
    "name": "ipython",
    "version": 3
   },
   "file_extension": ".py",
   "mimetype": "text/x-python",
   "name": "python",
   "nbconvert_exporter": "python",
   "pygments_lexer": "ipython3",
   "version": "3.12.4"
  }
 },
 "nbformat": 4,
 "nbformat_minor": 2
}
